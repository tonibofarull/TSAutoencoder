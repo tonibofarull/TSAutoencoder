{
 "cells": [
  {
   "cell_type": "markdown",
   "metadata": {},
   "source": [
    "# Load Packages"
   ]
  },
  {
   "cell_type": "code",
   "execution_count": null,
   "metadata": {
    "tags": []
   },
   "outputs": [],
   "source": [
    "%load_ext autoreload\n",
    "%autoreload 2\n",
    "import sys\n",
    "sys.path.append(\"../src\")\n",
    "\n",
    "import torch\n",
    "from torch import optim\n",
    "import matplotlib.pyplot as plt\n",
    "import numpy as np\n",
    "import seaborn as sns\n",
    "from sklearn.metrics import confusion_matrix\n",
    "import os\n",
    "import random\n",
    "import pandas as pd\n",
    "\n",
    "from models.CAE import CAE\n",
    "from train import Trainer\n",
    "from interpretability import *\n",
    "from dataloader import ElectricDevices, normalize\n",
    "from utils import baseline\n",
    "\n",
    "from pingouin import distance_corr # Szekely and Rizzo\n",
    "\n",
    "import hydra\n",
    "from hydra.experimental import initialize, initialize_config_dir, compose\n",
    "\n",
    "\n",
    "torch.manual_seed(4444)\n",
    "np.random.seed(4444)\n",
    "random.seed(4444)"
   ]
  },
  {
   "cell_type": "markdown",
   "metadata": {},
   "source": [
    "# Data Preprocessing"
   ]
  },
  {
   "cell_type": "code",
   "execution_count": null,
   "metadata": {},
   "outputs": [],
   "source": [
    "with initialize_config_dir(config_dir=os.path.abspath(\"../src/configs\")):\n",
    "    cfg = compose(config_name=\"config\")\n",
    "print(cfg)\n",
    "\n",
    "# diverging_colors = sns.color_palette(\"RdBu\", 9)\n",
    "diverging_colors = sns.color_palette(\"vlag\", as_cmap=True)\n",
    "\n",
    "data_train_ori, data_valid_ori, data_test_ori = ElectricDevices()\n",
    "data_train, data_valid, data_test = normalize(data_train_ori), normalize(data_valid_ori), normalize(data_test_ori)\n",
    "X_train, y_train = data_train[:,:,:-1], data_train[:,:,-1]\n",
    "X_valid, y_valid = data_valid[:,:,:-1], data_valid[:,:,-1]\n",
    "X_test, y_test = data_test[:,:,:-1], data_test[:,:,-1]"
   ]
  },
  {
   "cell_type": "markdown",
   "metadata": {},
   "source": [
    "# Data Exploration"
   ]
  },
  {
   "cell_type": "markdown",
   "metadata": {},
   "source": [
    "## Compare to baseline"
   ]
  },
  {
   "cell_type": "code",
   "execution_count": null,
   "metadata": {},
   "outputs": [],
   "source": [
    "# baseline(data_train, data_valid, data_test)"
   ]
  },
  {
   "cell_type": "markdown",
   "metadata": {},
   "source": [
    "# Model"
   ]
  },
  {
   "cell_type": "code",
   "execution_count": null,
   "metadata": {},
   "outputs": [],
   "source": [
    "model = CAE(cfg.model, num_classes=7)\n",
    "\n",
    "# torch.save(model.state_dict(), \"../weights/mod.pth\")\n",
    "model.load_state_dict(torch.load(\"../weights/mod.pth\"))"
   ]
  },
  {
   "cell_type": "code",
   "execution_count": null,
   "metadata": {
    "tags": []
   },
   "outputs": [],
   "source": [
    "# trainer = Trainer(cfg.train)\r\n",
    "# train_losses, valid_losses = trainer.fit(model, data_train, data_valid)"
   ]
  },
  {
   "cell_type": "code",
   "execution_count": null,
   "metadata": {},
   "outputs": [],
   "source": [
    "# plt.title(\"Cost\")\r\n",
    "# plt.plot(train_losses, label=\"train\")\r\n",
    "# plt.plot(valid_losses, label=\"validation\")\r\n",
    "# plt.legend()"
   ]
  },
  {
   "cell_type": "code",
   "execution_count": null,
   "metadata": {},
   "outputs": [],
   "source": [
    "selected = [3279, 1156, 7419, 5046, 3323, 6485,5497]"
   ]
  },
  {
   "cell_type": "markdown",
   "metadata": {},
   "source": [
    "## Evaluation"
   ]
  },
  {
   "cell_type": "markdown",
   "metadata": {},
   "source": [
    "Reconstruction"
   ]
  },
  {
   "cell_type": "code",
   "execution_count": null,
   "metadata": {},
   "outputs": [],
   "source": [
    "X_test, y_test = data_test[:,:,:-1], data_test[:,:,-1].numpy()\n",
    "X_testp, outclass_testp, bn = model(X_test, apply_noise=False)\n",
    "X_testp = X_testp.detach().numpy()\n",
    "probs_testp = model.classifier.get_probs(outclass_testp)\n",
    "y_testp = torch.argmax(probs_testp, dim=1).detach().numpy()\n",
    "\n",
    "# avg and std of cors\n",
    "cors = [distance_corr(X_testp[i,0], X_test[i,0].detach().numpy(), n_boot=None) for i in range(X_test.shape[0])]\n",
    "print(\"Distance Correlation avg and std:\", np.mean(cors), np.std(cors))\n",
    "print(\"NRMSE:\", (torch.sqrt(torch.mean(torch.square(X_test-X_testp)))/(torch.max(X_test)-torch.min(X_test))).item())\n",
    "print()"
   ]
  },
  {
   "cell_type": "markdown",
   "metadata": {},
   "source": [
    "Classification"
   ]
  },
  {
   "cell_type": "code",
   "execution_count": null,
   "metadata": {},
   "outputs": [],
   "source": [
    "cm = confusion_matrix(y_test, y_testp)\n",
    "sns.heatmap(cm, annot=True, cmap=\"Blues\")\n",
    "plt.xlabel(\"Predicted label\")\n",
    "plt.ylabel(\"True label\")\n",
    "\n",
    "print(\"Accuracy:\", np.sum(np.diag(cm))/np.sum(cm))"
   ]
  },
  {
   "cell_type": "markdown",
   "metadata": {},
   "source": [
    "Exploration of predictions"
   ]
  },
  {
   "cell_type": "code",
   "execution_count": null,
   "metadata": {
    "tags": []
   },
   "outputs": [],
   "source": [
    "# selected = np.random.choice(range(1000), 7)\n",
    "\n",
    "fig, axs = plt.subplots(nrows=2, ncols=len(selected), figsize=(25,5), constrained_layout=True)\n",
    "for i, x in enumerate(selected): #selected):\n",
    "    vals = data_test_ori[x,0,:-1]\n",
    "    min_v, max_v = torch.min(vals), torch.max(vals)\n",
    "    axs[0,i].set_title(f\"C: {int(y_test[x][0])} (min={min_v:.2f}, max={max_v:.2f})\")\n",
    "    axs[0,i].plot(X_test[x,0])\n",
    "    axs[0,i].axis(\"off\")\n",
    "    axs[0,i].set_ylim((0,1))\n",
    "\n",
    "    axs[1,i].set_title(f\"Pred: {int(y_testp[x])}\")\n",
    "    axs[1,i].plot(X_testp[x,0])\n",
    "    axs[1,i].axis(\"off\")\n",
    "    axs[1,i].set_ylim((0,1))\n",
    "\n",
    "    print(\"cor:\", distance_corr(X_testp[x,0], X_test[x,0], n_boot=None))"
   ]
  },
  {
   "cell_type": "markdown",
   "metadata": {},
   "source": [
    "# Interpretability"
   ]
  },
  {
   "cell_type": "markdown",
   "metadata": {},
   "source": [
    "## Importance of filters"
   ]
  },
  {
   "cell_type": "code",
   "execution_count": null,
   "metadata": {},
   "outputs": [],
   "source": [
    "num_filter = model.k*model.M\n",
    "w_per_filter = model.length\n",
    "num_neurons = model.bottleneck_nn\n",
    "M = model.M\n",
    "\n",
    "w = np.array([[torch.mean(torch.abs(model.encoder.fc_conv_bn.weight[j,i*w_per_filter:(i+1)*w_per_filter])).item() for i in range(num_filter)] for j in range(num_neurons)])\n",
    "x_axis_labels = [f\"{i}-d:{model.dilation[i//M]}\" for i in range(w.shape[1])]\n",
    "\n",
    "_ = sns.heatmap(w, xticklabels=x_axis_labels, cmap=\"gray\", vmin=0)"
   ]
  },
  {
   "cell_type": "markdown",
   "metadata": {},
   "source": [
    "## Distribution of data"
   ]
  },
  {
   "cell_type": "code",
   "execution_count": null,
   "metadata": {},
   "outputs": [],
   "source": [
    "sns.set(font_scale=1.125, style=\"white\") \n",
    "\n",
    "ax = sns.histplot(X_train.flatten(), stat=\"density\")\n",
    "ax.set(xlabel=\"Training input values\")\n",
    "# plt.savefig(\"sv_data-distribution.png\", dpi=100)"
   ]
  },
  {
   "cell_type": "markdown",
   "metadata": {},
   "source": [
    "## Distribution of neurons"
   ]
  },
  {
   "cell_type": "markdown",
   "metadata": {},
   "source": [
    "Extract bottlenecks from the training data"
   ]
  },
  {
   "cell_type": "code",
   "execution_count": null,
   "metadata": {},
   "outputs": [],
   "source": [
    "_, _, bn = model(X_train, False)\n",
    "bn = bn.detach().numpy()\n",
    "y_train_np = np.array(y_train, dtype=np.int8).flatten()\n",
    "\n",
    "baselines = np.mean(bn, axis=0) # mean value of each neuron on the whole training dataset"
   ]
  },
  {
   "cell_type": "markdown",
   "metadata": {},
   "source": [
    "Distribution in each neuron"
   ]
  },
  {
   "cell_type": "code",
   "execution_count": null,
   "metadata": {},
   "outputs": [],
   "source": [
    "fig1, axs = plt.subplots(nrows=5, ncols=5, figsize=(25,20), constrained_layout=True)\r\n",
    "axs[4,4].set_axis_off()\r\n",
    "for i in range(24):\r\n",
    "    aux = pd.DataFrame({\"x\": bn[:,i]})\r\n",
    "    axs.flat[i].set_title(f\"Neuron {i}\")\r\n",
    "    sns.histplot(data=aux, x=\"x\", ax=axs.flat[i], kde=True)\r\n",
    "plt.savefig(\"sv_data-distribution.png\", dpi=100)"
   ]
  },
  {
   "cell_type": "markdown",
   "metadata": {},
   "source": [
    "Distribution in each neuron for each class"
   ]
  },
  {
   "cell_type": "code",
   "execution_count": null,
   "metadata": {},
   "outputs": [],
   "source": [
    "fig2, axs = plt.subplots(nrows=5, ncols=5, figsize=(25,20), constrained_layout=True)\r\n",
    "axs[4,4].set_axis_off()\r\n",
    "for i in range(24):\r\n",
    "    aux = pd.DataFrame({\"Bottleneck\": bn[:,i], \"Class\": y_train_np})\r\n",
    "    axs.flat[i].set_title(f\"Neuron {i}\")\r\n",
    "    sns.kdeplot(data=aux, x=\"Bottleneck\", hue=\"Class\", palette=sns.color_palette(\"tab10\",7), ax=axs.flat[i])"
   ]
  },
  {
   "cell_type": "code",
   "execution_count": null,
   "metadata": {},
   "outputs": [],
   "source": [
    "# fig1.savefig(\"distribution_of_neurons.png\")\r\n",
    "# fig2.savefig(\"distribution_of_neurons_class.png\")"
   ]
  },
  {
   "cell_type": "markdown",
   "metadata": {},
   "source": [
    "## Feature Visualization"
   ]
  },
  {
   "cell_type": "markdown",
   "metadata": {},
   "source": [
    "Input that maximizes neuron"
   ]
  },
  {
   "cell_type": "code",
   "execution_count": null,
   "metadata": {},
   "outputs": [],
   "source": [
    "# for i in range(24):\r\n",
    "#     a1 = feature_visualization(model, i, 2)\r\n",
    "#     plt.plot(a1, \"o-\")\r\n",
    "#     plt.title(f\"Neuron {i}\")\r\n",
    "#     plt.ylim(-0.05, 1.05)\r\n",
    "#     plt.savefig(f\"../plots/{i}.png\")\r\n",
    "#     plt.close()"
   ]
  },
  {
   "cell_type": "markdown",
   "metadata": {},
   "source": [
    "Input that maximizes class"
   ]
  },
  {
   "cell_type": "code",
   "execution_count": null,
   "metadata": {},
   "outputs": [],
   "source": [
    "# fig, axs = plt.subplots(nrows=2, ncols=4, figsize=(25,10), constrained_layout=True)\r\n",
    "# for i in range(7): #selected):\r\n",
    "#     a1 = feature_visualization(model, i, 1)\r\n",
    "#     axs.flat[i].plot(a1)\r\n",
    "#     axs.flat[i].set_title(f\"Representant class {i}\")\r\n",
    "#     axs.flat[i].set_ylim(-0.05, 1.05)"
   ]
  },
  {
   "cell_type": "markdown",
   "metadata": {},
   "source": [
    "## Shapley Value Sampling"
   ]
  },
  {
   "cell_type": "code",
   "execution_count": null,
   "metadata": {},
   "outputs": [],
   "source": [
    "hist_input = [get_hist(X_train[:,0,i]) for i in range(96)]\r\n",
    "\r\n",
    "aux = model.encoder(X_train, False).detach().numpy()\r\n",
    "hist_bn = [get_hist(aux[:,i]) for i in range(24)]"
   ]
  },
  {
   "cell_type": "markdown",
   "metadata": {},
   "source": [
    "Importance of input with respect to outputs"
   ]
  },
  {
   "cell_type": "code",
   "execution_count": null,
   "metadata": {},
   "outputs": [],
   "source": [
    "func = lambda x: model(x.reshape(-1,1,96), False)[0][:,0]\r\n",
    "f_attrs = lambda inp: np.array([shapley_sampling(inp, func, j, hist_input) for j in range(model.length)])\r\n",
    "attrs = []\r\n",
    "for i, x in enumerate(selected):\r\n",
    "    print(i)\r\n",
    "    attrs.append(f_attrs(X_test[x,0]))\r\n",
    "\r\n",
    "fig1, axs = plt.subplots(nrows=3, ncols=3, figsize=(15,15), constrained_layout=True)\r\n",
    "axs = np.array(axs)\r\n",
    "axs[2,1].set_axis_off()\r\n",
    "axs[2,2].set_axis_off()\r\n",
    "for i, x in enumerate(selected):\r\n",
    "    ax = sns.heatmap(attrs[i], ax=axs.flatten()[i], center=0, cmap=diverging_colors, cbar_kws={\"orientation\": \"horizontal\"})\r\n",
    "    ax.set(xlabel=\"Output Time Series\", ylabel=\"Input Time Series\")\r\n",
    "\r\n",
    "    ax = axs.flatten()[i].twinx()\r\n",
    "    sns.lineplot(x=range(96), y=X_test[x,0], label=\"Original\", color=\"green\", ax=ax)\r\n",
    "    sns.lineplot(x=range(96), y=model(X_test[x,0].reshape(1,1,-1), False)[0][0,0].detach().numpy(), label=\"Predicted\", color=\"purple\", ax=ax)\r\n",
    "    ax.legend()"
   ]
  },
  {
   "cell_type": "markdown",
   "metadata": {},
   "source": [
    "Importance of bottleneck with respect the outputs"
   ]
  },
  {
   "cell_type": "code",
   "execution_count": null,
   "metadata": {},
   "outputs": [],
   "source": [
    "func = lambda x: model.decoder(x)[:,0,:]\r\n",
    "f_attrs = lambda inp: np.array([shapley_sampling(inp, func, j, hist_bn) for j in range(model.bottleneck_nn)])\r\n",
    "attrs = []\r\n",
    "for i, x in enumerate(selected):\r\n",
    "    print(i)\r\n",
    "    inp = model.encoder(X_test[x,0].reshape(1,1,-1), False).flatten()\r\n",
    "    attrs.append(f_attrs(inp))\r\n",
    "\r\n",
    "fig2, axs = plt.subplots(nrows=3, ncols=3, figsize=(15,15), constrained_layout=True)\r\n",
    "axs = np.array(axs)\r\n",
    "axs[2,1].set_axis_off()\r\n",
    "axs[2,2].set_axis_off()\r\n",
    "for i, x in enumerate(selected):\r\n",
    "    ax = sns.heatmap(attrs[i], ax=axs.flatten()[i], center=0, cmap=diverging_colors, cbar_kws={\"orientation\": \"horizontal\"})\r\n",
    "    ax.set(xlabel=\"Output Time Series\", ylabel=\"Input Bottleneck\")\r\n",
    "\r\n",
    "    ax = axs.flatten()[i].twinx()\r\n",
    "    sns.lineplot(x=range(96), y=X_test[x,0], label=\"Original\", color=\"green\", ax=ax)\r\n",
    "    sns.lineplot(x=range(96), y=model(X_test[x,0].reshape(1,1,-1), False)[0][0,0].detach().numpy(), label=\"Predicted\", color=\"purple\", ax=ax)\r\n",
    "    ax.legend()"
   ]
  },
  {
   "cell_type": "markdown",
   "metadata": {},
   "source": [
    "Importance of input with respect the bottleneck"
   ]
  },
  {
   "cell_type": "code",
   "execution_count": null,
   "metadata": {},
   "outputs": [],
   "source": [
    "func = lambda x: model.encoder(x.reshape(-1,1,96), False)\r\n",
    "f_attrs = lambda inp: np.array([shapley_sampling(inp, func, j, hist_input) for j in range(model.length)]).T\r\n",
    "attrs = []\r\n",
    "for i, x in enumerate(selected):\r\n",
    "    print(i)\r\n",
    "    inp = X_test[x,0]\r\n",
    "    attrs.append(f_attrs(inp))\r\n",
    "\r\n",
    "fig3, axs = plt.subplots(nrows=3, ncols=3, figsize=(15,15), constrained_layout=True)\r\n",
    "axs = np.array(axs)\r\n",
    "axs[2,1].set_axis_off()\r\n",
    "axs[2,2].set_axis_off()\r\n",
    "for i, x in enumerate(selected):\r\n",
    "    ax = sns.heatmap(attrs[i], ax=axs.flatten()[i], center=0, cmap=diverging_colors, cbar_kws={\"orientation\": \"horizontal\"})\r\n",
    "    ax.set(xlabel=\"Input Time Series\", ylabel=\"Output Bottleneck\")\r\n",
    "\r\n",
    "    ax = axs.flatten()[i].twinx()\r\n",
    "    sns.lineplot(x=range(96), y=X_test[x,0], label=\"Original\", color=\"green\", ax=ax)\r\n",
    "    sns.lineplot(x=range(96), y=model(X_test[x,0].reshape(1,1,-1), False)[0][0,0].detach().numpy(), label=\"Predicted\", color=\"purple\", ax=ax)"
   ]
  },
  {
   "cell_type": "markdown",
   "metadata": {},
   "source": [
    "Importance of bottleneck with respect the class"
   ]
  },
  {
   "cell_type": "code",
   "execution_count": null,
   "metadata": {},
   "outputs": [],
   "source": [
    "func = lambda x: model.classifier.get_probs(model.classifier(x.reshape(-1, 24)))\r\n",
    "f_attrs = lambda inp: np.array([shapley_sampling(inp, func, j, hist_bn) for j in range(model.bottleneck_nn)])\r\n",
    "attrs = []\r\n",
    "for i, x in enumerate(selected):\r\n",
    "    print(i)\r\n",
    "    inp = model.encoder(X_test[x,0].reshape(1,1,-1), False).flatten()\r\n",
    "    attrs.append(f_attrs(inp))\r\n",
    "\r\n",
    "fig4, axs = plt.subplots(nrows=3, ncols=3, figsize=(8,8), constrained_layout=True)\r\n",
    "axs = np.array(axs)\r\n",
    "axs[2,1].set_axis_off()\r\n",
    "axs[2,2].set_axis_off()\r\n",
    "for i, x in enumerate(selected):\r\n",
    "    ax = sns.heatmap(attrs[i], ax=axs.flatten()[i], center=0, cmap=diverging_colors, cbar_kws={\"orientation\": \"horizontal\"})\r\n",
    "    ax.set(xlabel=\"Output Class\", ylabel=\"Input Bottleneck\")"
   ]
  },
  {
   "cell_type": "markdown",
   "metadata": {},
   "source": [
    "Importance of input with respect class"
   ]
  },
  {
   "cell_type": "code",
   "execution_count": null,
   "metadata": {},
   "outputs": [],
   "source": [
    "func = lambda x: model.classifier.get_probs(model.classifier(model.encoder(x.reshape(-1,1,96), False)))\r\n",
    "f_attrs = lambda inp: np.array([shapley_sampling(inp, func, j, hist_input) for j in range(model.length)]).T\r\n",
    "attrs = []\r\n",
    "for i, x in enumerate(selected):\r\n",
    "    print(i)\r\n",
    "    inp = X_test[x,0]\r\n",
    "    attrs.append(f_attrs(inp))\r\n",
    "\r\n",
    "fig5, axs = plt.subplots(nrows=3, ncols=3, figsize=(15,15), constrained_layout=True)\r\n",
    "axs = np.array(axs)\r\n",
    "axs[2,1].set_axis_off()\r\n",
    "axs[2,2].set_axis_off()\r\n",
    "for i, x in enumerate(selected):\r\n",
    "    ax = sns.heatmap(attrs[i], ax=axs.flatten()[i], center=0, cmap=diverging_colors, cbar_kws={\"orientation\": \"horizontal\"})\r\n",
    "    ax.set(xlabel=\"Input Time Series\", ylabel=\"Output Bottleneck\")\r\n",
    "\r\n",
    "    ax = axs.flatten()[i].twinx()\r\n",
    "    sns.lineplot(x=range(96), y=X_test[x,0], label=\"Original\", color=\"green\", ax=ax)\r\n",
    "    sns.lineplot(x=range(96), y=model(X_test[x,0].reshape(1,1,-1), False)[0][0,0].detach().numpy(), label=\"Predicted\", color=\"purple\", ax=ax)"
   ]
  },
  {
   "cell_type": "code",
   "execution_count": null,
   "metadata": {},
   "outputs": [],
   "source": [
    "# fig1.savefig(\"sv_input-output_dist.png\", dpi=100)\r\n",
    "# fig2.savefig(\"sv_bottleneck-output_dist.png\", dpi=100)\r\n",
    "# fig3.savefig(\"sv_input-bottleneck_dist.png\", dpi=100)\r\n",
    "# fig4.savefig(\"sv_bottleneck-class_dist.png\", dpi=100)\r\n",
    "# fig5.savefig(\"sv_input-class_dist.png\", dpi=100)"
   ]
  },
  {
   "cell_type": "code",
   "execution_count": null,
   "metadata": {},
   "outputs": [],
   "source": []
  }
 ],
 "metadata": {
  "kernelspec": {
   "name": "pythonjvsc74a57bd03d0a349251b803ce89bf9e449a94f1b8464b3ca029752d5a5598c6dc74984378",
   "display_name": "Python 3.8.8 64-bit ('.venv': venv)"
  },
  "language_info": {
   "codemirror_mode": {
    "name": "ipython",
    "version": 3
   },
   "file_extension": ".py",
   "mimetype": "text/x-python",
   "name": "python",
   "nbconvert_exporter": "python",
   "pygments_lexer": "ipython3",
   "version": "3.8.8"
  },
  "metadata": {
   "interpreter": {
    "hash": "3d0a349251b803ce89bf9e449a94f1b8464b3ca029752d5a5598c6dc74984378"
   }
  },
  "orig_nbformat": 2
 },
 "nbformat": 4,
 "nbformat_minor": 2
}
