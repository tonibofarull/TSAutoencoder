{
 "cells": [
  {
   "cell_type": "code",
   "execution_count": null,
   "metadata": {},
   "outputs": [],
   "source": [
    "%load_ext autoreload\r\n",
    "%autoreload 2\r\n",
    "import sys\r\n",
    "sys.path.append(\"..\")\r\n",
    "\r\n",
    "from itertools import chain, combinations\r\n",
    "from math import factorial\r\n",
    "\r\n",
    "import seaborn as sns\r\n",
    "import torch\r\n",
    "import numpy as np\r\n",
    "from src.interpretability import sample_from_hist, get_hist\r\n",
    "import random\r\n",
    "import matplotlib.pyplot as plt\r\n",
    "\r\n",
    "torch.manual_seed(4444)\r\n",
    "np.random.seed(4444)\r\n",
    "random.seed(4444)\r\n",
    "\r\n",
    "sns.set(font_scale=1.75, style=\"white\") "
   ]
  },
  {
   "cell_type": "code",
   "execution_count": null,
   "metadata": {},
   "outputs": [],
   "source": [
    "def powerset(iterable):\r\n",
    "    \"\"\"\r\n",
    "    powerset([1,2,3]) --> () (1,) (2,) (3,) (1,2) (1,3) (2,3) (1,2,3)\r\n",
    "    \"\"\"\r\n",
    "    s = list(iterable)\r\n",
    "    return chain.from_iterable(combinations(s, r) for r in range(len(s)+1))\r\n",
    "\r\n",
    "def shapley_value(x, b, i, func, hist=None):\r\n",
    "    n = len(x)\r\n",
    "    l = list(range(n))\r\n",
    "    del l[i]\r\n",
    "\r\n",
    "    if hist is not None:\r\n",
    "        b = torch.tensor([sample_from_hist(hist[i]) for i in range(n)], dtype=torch.float32).flatten()\r\n",
    "\r\n",
    "    sv = 0\r\n",
    "    for S in powerset(l):\r\n",
    "        S = np.array(S).flatten()\r\n",
    "        v1, v2 = b.clone(), b.clone()\r\n",
    "        v1[i] = x[i]\r\n",
    "        if len(S) != 0:\r\n",
    "            v1[S] = x[S]\r\n",
    "            v2[S] = x[S]\r\n",
    "        const = factorial(len(S))*factorial(n-len(S)-1)/factorial(n)\r\n",
    "        sv += const*(func(v1)-func(v2))\r\n",
    "    return sv"
   ]
  },
  {
   "cell_type": "markdown",
   "metadata": {},
   "source": [
    "Hidden function"
   ]
  },
  {
   "cell_type": "code",
   "execution_count": null,
   "metadata": {},
   "outputs": [],
   "source": [
    "def func1():\r\n",
    "    phi = torch.tensor([1,2,3,4,1])\r\n",
    "    def foo(x):\r\n",
    "        return torch.sum(phi * x)\r\n",
    "    return foo\r\n",
    "\r\n",
    "def func2():\r\n",
    "    def foo(x):\r\n",
    "        return torch.exp(-1/4 * torch.square(x[0])) + torch.exp(-1/4 * torch.square(x[1]))\r\n",
    "    return foo"
   ]
  },
  {
   "cell_type": "markdown",
   "metadata": {},
   "source": [
    "Data generator"
   ]
  },
  {
   "cell_type": "code",
   "execution_count": null,
   "metadata": {},
   "outputs": [],
   "source": [
    "def generate1():\r\n",
    "    locs = [1,1,1,1,15]\r\n",
    "    x = np.concatenate([np.random.normal(loc=i, scale=1, size=(1,1)) for i in locs], axis=1)\r\n",
    "    x = torch.tensor(x, dtype=torch.float32).flatten()\r\n",
    "    return x\r\n",
    "\r\n",
    "def generate2():\r\n",
    "    a = torch.normal(mean=5, std=1, size=(1,1))\r\n",
    "    b = torch.normal(mean=-5, std=1, size=(1,1))\r\n",
    "    sel = torch.rand(1, 1) < 0.5\r\n",
    "    x = torch.where(sel, a, b)\r\n",
    "    x = torch.cat([x, torch.normal(mean=0, std=1, size=(1,1))], dim=1)\r\n",
    "    return x.flatten()"
   ]
  },
  {
   "cell_type": "code",
   "execution_count": null,
   "metadata": {},
   "outputs": [],
   "source": [
    "sns.set(font_scale=1.125, style=\"white\") \r\n",
    "x = np.abs(np.stack([generate2() for _ in range(100000)]))\r\n",
    "sns.kdeplot(x[:,0], label=\"First component\")\r\n",
    "sns.kdeplot(x[:,1], label=\"Second component\")\r\n",
    "plt.legend()\r\n",
    "plt.savefig(\"distributions.png\", dpi=100)"
   ]
  },
  {
   "cell_type": "code",
   "execution_count": null,
   "metadata": {},
   "outputs": [],
   "source": [
    "X = np.arange(0, 10, 0.25)\r\n",
    "Y = np.arange(0, 5, 0.25)\r\n",
    "X, Y = np.meshgrid(X, Y)\r\n",
    "Z = np.exp(-1/4 * (X**2 + Y**2))\r\n",
    "fig, ax = plt.subplots(subplot_kw={\"projection\": \"3d\"})\r\n",
    "\r\n",
    "from matplotlib import cm\r\n",
    "ax.plot_wireframe(X, Y, Z, rstride=2, cstride=2)\r\n",
    "ax.set_xlabel(r\"$x_1$\")\r\n",
    "ax.set_ylabel(r\"$x_2$\")\r\n",
    "ax.view_init(30, -60)\r\n",
    "fig.savefig(\"a.png\", dpi=100)"
   ]
  },
  {
   "cell_type": "markdown",
   "metadata": {},
   "source": [
    "Evaluate the shapley values"
   ]
  },
  {
   "cell_type": "code",
   "execution_count": null,
   "metadata": {},
   "outputs": [],
   "source": [
    "def compute(func=func1, gen=generate1, hist_input=True, alpha=1, b_zero=False, normalize=False, ax=None, title=None):\r\n",
    "    n = 1000\r\n",
    "    f = func()\r\n",
    "\r\n",
    "    x = torch.stack([gen() for _ in range(n)])\r\n",
    "\r\n",
    "    if normalize:\r\n",
    "        x = (x-torch.mean(x, dim=0)/torch.std(x, dim=0))\r\n",
    "\r\n",
    "    if hist_input:\r\n",
    "        hist_input = [get_hist(x[:,j], alpha=alpha) for j in range(x.shape[1])]\r\n",
    "    else:\r\n",
    "        hist_input = None\r\n",
    "\r\n",
    "    # b = torch.tensor([0,0], dtype=torch.float32)\r\n",
    "    # b = torch.tensor([0,0,0,0,0], dtype=torch.float32)\r\n",
    "    if b_zero:\r\n",
    "        b = torch.tensor([0,0,0,0,0], dtype=torch.float32)\r\n",
    "    else:\r\n",
    "        b = torch.mean(x, dim=0)\r\n",
    "\r\n",
    "    res = [[shapley_value(x[j], b, i, f, hist=hist_input).item() for i in range(x.shape[1])] for j in range(n)]\r\n",
    "    res = np.abs(np.array(res))\r\n",
    "\r\n",
    "    data = {\"x\": res.flatten(), \"class\": np.tile(range(res.shape[1]), res.shape[0])+1}\r\n",
    "    sns.boxplot(x=\"class\", y=\"x\", data=data, ax=ax)\r\n",
    "    ax.set(xlabel=\"Feature\", ylabel=\"Absolute Shapley Value\", title=title)"
   ]
  },
  {
   "cell_type": "markdown",
   "metadata": {},
   "source": [
    "First experiment"
   ]
  },
  {
   "cell_type": "code",
   "execution_count": null,
   "metadata": {},
   "outputs": [],
   "source": [
    "fig5, axs = plt.subplots(nrows=1, ncols=1, figsize=(8,6), constrained_layout=True)\r\n",
    "compute(func=func1, gen=generate1, hist_input=False, b_zero=True, ax=axs)\r\n",
    "fig5.savefig(\"base_zeros.png\", dpi=100)"
   ]
  },
  {
   "cell_type": "code",
   "execution_count": null,
   "metadata": {},
   "outputs": [],
   "source": [
    "fig5, axs = plt.subplots(nrows=2, ncols=2, figsize=(16,12), constrained_layout=True)\r\n",
    "compute(func=func1, gen=generate1, hist_input=False, b_zero=False, ax=axs[0,0], title=\"Mean baseline\")\r\n",
    "compute(func=func1, gen=generate1, hist_input=True, alpha=1, ax=axs[0,1], title=\"Distribution baseline\")\r\n",
    "compute(func=func1, gen=generate1, hist_input=True, alpha=0, ax=axs[1,0], title=\"Uniform baseline\")\r\n",
    "compute(func=func1, gen=generate1, hist_input=True, alpha=-1, ax=axs[1,1], title=\"Inverse proportional baseline\")\r\n",
    "fig5.savefig(\"base.png\", dpi=100)"
   ]
  },
  {
   "cell_type": "markdown",
   "metadata": {},
   "source": [
    "Second experiment"
   ]
  },
  {
   "cell_type": "code",
   "execution_count": null,
   "metadata": {},
   "outputs": [],
   "source": [
    "fig5, axs = plt.subplots(nrows=2, ncols=2, figsize=(16,10), constrained_layout=True)\r\n",
    "compute(func=func2, gen=generate2, hist_input=False,  b_zero=False, ax=axs[0,0], title=\"Mean baseline\")\r\n",
    "compute(func=func2, gen=generate2, hist_input=True, alpha=1, ax=axs[0,1], title=\"Distribution baseline\")\r\n",
    "compute(func=func2, gen=generate2, hist_input=True, alpha=0, ax=axs[1,0], title=\"Uniform baseline\")\r\n",
    "compute(func=func2, gen=generate2, hist_input=True, alpha=-1, ax=axs[1,1], title=\"Inverse proportional baseline\")\r\n",
    "fig5.savefig(\"base2.png\", dpi=100)"
   ]
  },
  {
   "cell_type": "code",
   "execution_count": null,
   "metadata": {},
   "outputs": [],
   "source": []
  }
 ],
 "metadata": {
  "kernelspec": {
   "display_name": "Python 3.8.8 64-bit ('.venv')",
   "name": "python388jvsc74a57bd03d0a349251b803ce89bf9e449a94f1b8464b3ca029752d5a5598c6dc74984378"
  },
  "language_info": {
   "codemirror_mode": {
    "name": "ipython",
    "version": 3
   },
   "file_extension": ".py",
   "mimetype": "text/x-python",
   "name": "python",
   "nbconvert_exporter": "python",
   "pygments_lexer": "ipython3",
   "version": "3.8.8"
  },
  "metadata": {
   "interpreter": {
    "hash": "3d0a349251b803ce89bf9e449a94f1b8464b3ca029752d5a5598c6dc74984378"
   }
  },
  "orig_nbformat": 2
 },
 "nbformat": 4,
 "nbformat_minor": 2
}
