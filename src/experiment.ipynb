{
 "cells": [
  {
   "cell_type": "code",
   "execution_count": null,
   "metadata": {},
   "outputs": [],
   "source": [
    "%load_ext autoreload\r\n",
    "%autoreload 2\r\n",
    "\r\n",
    "import seaborn as sns\r\n",
    "import pandas as pd\r\n",
    "import torch\r\n",
    "import numpy as np\r\n",
    "from interpretability import sample_from_hist, get_hist"
   ]
  },
  {
   "cell_type": "code",
   "execution_count": null,
   "metadata": {},
   "outputs": [],
   "source": [
    "def shapley_value(x, b, i, func, hist=None):\r\n",
    "    from itertools import chain, combinations\r\n",
    "    from math import factorial\r\n",
    "    def powerset(iterable):\r\n",
    "        \"powerset([1,2,3]) --> () (1,) (2,) (3,) (1,2) (1,3) (2,3) (1,2,3)\"\r\n",
    "        s = list(iterable)\r\n",
    "        return chain.from_iterable(combinations(s, r) for r in range(len(s)+1))\r\n",
    "\r\n",
    "    n = len(x)\r\n",
    "    l = list(range(n))\r\n",
    "    del l[i]\r\n",
    "    sv = 0\r\n",
    "\r\n",
    "    if hist is None:\r\n",
    "        b = torch.zeros(n)\r\n",
    "    else:\r\n",
    "        b = torch.tensor([sample_from_hist(hist[i]) for i in range(n)], dtype=torch.float32).flatten()\r\n",
    "\r\n",
    "    for S in powerset(l):\r\n",
    "        S = np.array(S).flatten()\r\n",
    "        v1, v2 = b.clone(), b.clone()\r\n",
    "        v1[i] = x[i]\r\n",
    "        if len(S) != 0:\r\n",
    "            v1[S] = x[S]\r\n",
    "            v2[S] = x[S]\r\n",
    "        const = factorial(len(S))*factorial(n-len(S)-1)/factorial(n)\r\n",
    "        sv += const*(func(v1)-func(v2))\r\n",
    "    return abs(sv)"
   ]
  },
  {
   "cell_type": "code",
   "execution_count": null,
   "metadata": {},
   "outputs": [],
   "source": [
    "def func():\r\n",
    "    n = 3\r\n",
    "    t1 = np.concatenate([np.random.lognormal(mean=i, sigma=1, size=(n,1)) for i in range(4)], axis=1)\r\n",
    "    t2 = np.random.lognormal(mean=2, sigma=1, size=(n,1))\r\n",
    "    phi = np.concatenate((t1, t2), axis=1)\r\n",
    "    phi = torch.tensor(phi)\r\n",
    "    phi = torch.mean(phi, axis=0).flatten()\r\n",
    "    phi = phi.float().flatten()\r\n",
    "    def foo(x):\r\n",
    "        return torch.sum(phi * x)\r\n",
    "    return foo\r\n",
    "\r\n",
    "def generate():\r\n",
    "    t1 = np.random.normal(loc=0, scale=0.1, size=4)\r\n",
    "    t2 = np.random.normal(loc=1, scale=0.1, size=1)\r\n",
    "    x = np.concatenate((t1, t2))\r\n",
    "    x = torch.tensor(x, dtype=torch.float32).flatten()\r\n",
    "    return x"
   ]
  },
  {
   "cell_type": "code",
   "execution_count": null,
   "metadata": {},
   "outputs": [],
   "source": [
    "hist_input = [get_hist(np.array([generate()[i].item() for _ in range(100)])) for i in range(5)]"
   ]
  },
  {
   "cell_type": "code",
   "execution_count": null,
   "metadata": {},
   "outputs": [],
   "source": [
    "b = torch.zeros(5)\r\n",
    "res = []\r\n",
    "for _ in range(10):\r\n",
    "    aux2 = []\r\n",
    "    f = func()\r\n",
    "    for _ in range(20):\r\n",
    "        x = generate()\r\n",
    "        aux = []\r\n",
    "        for i in range(5):\r\n",
    "            aux.append(shapley_value(x, b, i, f, None).item()) # Change this\r\n",
    "        aux2.append(aux)\r\n",
    "    res.append(aux2)\r\n",
    "res = np.mean(np.array(res), axis=0)"
   ]
  },
  {
   "cell_type": "code",
   "execution_count": null,
   "metadata": {},
   "outputs": [],
   "source": [
    "data = {\"x\": res.flatten(), \"class\": np.tile(range(5), 20)}\r\n",
    "sns.boxplot(x=\"class\", y=\"x\", data=data)"
   ]
  },
  {
   "cell_type": "code",
   "execution_count": null,
   "metadata": {},
   "outputs": [],
   "source": []
  }
 ],
 "metadata": {
  "kernelspec": {
   "display_name": "Python 3.8.8  ('.venv': venv)",
   "name": "pythonjvsc74a57bd03d0a349251b803ce89bf9e449a94f1b8464b3ca029752d5a5598c6dc74984378"
  },
  "language_info": {
   "codemirror_mode": {
    "name": "ipython",
    "version": 3
   },
   "file_extension": ".py",
   "mimetype": "text/x-python",
   "name": "python",
   "nbconvert_exporter": "python",
   "pygments_lexer": "ipython3",
   "version": "3.8.8"
  },
  "metadata": {
   "interpreter": {
    "hash": "3d0a349251b803ce89bf9e449a94f1b8464b3ca029752d5a5598c6dc74984378"
   }
  },
  "orig_nbformat": 2
 },
 "nbformat": 4,
 "nbformat_minor": 2
}