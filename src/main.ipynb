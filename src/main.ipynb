{
 "cells": [
  {
   "cell_type": "code",
   "execution_count": null,
   "metadata": {},
   "outputs": [],
   "source": [
    "%load_ext autoreload\n",
    "%autoreload 2\n",
    "import os\n",
    "import random\n",
    "\n",
    "import hydra\n",
    "import matplotlib.pyplot as plt\n",
    "import numpy as np\n",
    "import torch\n",
    "from dataloader import ARMA\n",
    "from dataloader import ElectricDevices\n",
    "from hydra.experimental import compose\n",
    "from hydra.experimental import initialize_config_dir\n",
    "from interpretability import get_hist\n",
    "from interpretability import global_interpretability\n",
    "from interpretability import shapley_bottleneck_vs_class\n",
    "from interpretability import shapley_bottleneck_vs_output\n",
    "from interpretability import shapley_input_vs_bottleneck\n",
    "from interpretability import shapley_input_vs_class\n",
    "from interpretability import shapley_input_vs_output\n",
    "from models.CAE import CAE\n",
    "from train import Trainer\n",
    "from utils import accuracy\n",
    "from utils import baseline\n",
    "from utils import data_bottleneck_exploration\n",
    "from utils import data_input_exploration\n",
    "from utils import get_predictions\n",
    "from utils import observation_reconstruction\n",
    "from utils import reconstruction\n",
    "\n",
    "torch.manual_seed(4444)\n",
    "np.random.seed(4444)\n",
    "random.seed(4444)\n",
    "\n",
    "plt.rcParams.update({'font.size': 14})"
   ]
  },
  {
   "cell_type": "code",
   "execution_count": null,
   "metadata": {},
   "outputs": [],
   "source": [
    "TRAIN = False # Use a pretained model or train one from 0.\r\n",
    "TYPE = 3 # 1: Random observation per class. 2: Default ARMA. 3: Default ElectricDevices."
   ]
  },
  {
   "cell_type": "markdown",
   "metadata": {},
   "source": [
    "# Model"
   ]
  },
  {
   "cell_type": "code",
   "execution_count": null,
   "metadata": {},
   "outputs": [],
   "source": [
    "with initialize_config_dir(config_dir=os.path.abspath(\"configs\")):\n",
    "    cfg = compose(config_name=\"config\")\n",
    "\n",
    "dl = ElectricDevices()\n",
    "#dl = ARMA(5)\n",
    "\n",
    "data_train, data_valid, data_test = dl()\n",
    "X_train, y_train = data_train[:, :, :-1], data_train[:, :, -1]\n",
    "X_valid, y_valid = data_valid[:, :, :-1], data_valid[:, :, -1]\n",
    "X_test, y_test = data_test[:, :, :-1], data_test[:, :, -1]"
   ]
  },
  {
   "cell_type": "code",
   "execution_count": null,
   "metadata": {},
   "outputs": [],
   "source": [
    "model = CAE(cfg.model)"
   ]
  },
  {
   "cell_type": "code",
   "execution_count": null,
   "metadata": {
    "tags": []
   },
   "outputs": [],
   "source": [
    "if TRAIN:\r\n",
    "    trainer = Trainer(cfg.train)\r\n",
    "    train_losses, valid_losses = trainer.fit(model, data_train, data_valid)\r\n",
    "\r\n",
    "    plt.title(\"Cost\")\r\n",
    "    plt.plot(train_losses, label=\"train\")\r\n",
    "    plt.plot(valid_losses, label=\"validation\")\r\n",
    "    plt.legend()\r\n",
    "\r\n",
    "else:\r\n",
    "    model.load_state_dict(torch.load(\"../weights/mod.pth\"))\r\n",
    "\r\n",
    "# Uncomment to save the model\r\n",
    "#torch.save(model.state_dict(), \"../weights/mod_checkpoint.pth\")"
   ]
  },
  {
   "cell_type": "markdown",
   "metadata": {},
   "source": [
    "Predict testing data,"
   ]
  },
  {
   "cell_type": "code",
   "execution_count": null,
   "metadata": {},
   "outputs": [],
   "source": [
    "X_testp, y_testp, bn = get_predictions(model, X_test)"
   ]
  },
  {
   "cell_type": "markdown",
   "metadata": {},
   "source": [
    "# Evaluate"
   ]
  },
  {
   "cell_type": "markdown",
   "metadata": {},
   "source": [
    "## Reconstruction"
   ]
  },
  {
   "cell_type": "code",
   "execution_count": null,
   "metadata": {
    "tags": []
   },
   "outputs": [],
   "source": [
    "reconstruction(X_test, X_testp, y_test)"
   ]
  },
  {
   "cell_type": "markdown",
   "metadata": {},
   "source": [
    "### Reconstruction of individual observations"
   ]
  },
  {
   "cell_type": "markdown",
   "metadata": {},
   "source": [
    "Select the predefined observations per problem (TYPE 2 or 3) or select random ones.\r\n",
    "\r\n",
    "Execute this cell and the next one several times with TYPE 1 to see several observations per class"
   ]
  },
  {
   "cell_type": "code",
   "execution_count": null,
   "metadata": {},
   "outputs": [],
   "source": [
    "if TYPE == 1:\r\n",
    "    # Random selection, one per class\r\n",
    "    SELECTED = [np.random.choice([i for i, x in enumerate(y_test) if int(x) == j]) for j in range(cfg.model.num_classes)]\r\n",
    "elif TYPE == 2:\r\n",
    "    # ARMA\r\n",
    "    SELECTED = [477, 250, 865, 113]\r\n",
    "else:\r\n",
    "    # ELECTRIC DEVICES\r\n",
    "    SELECTED = [3279, 1156, 7419, 5046, 3323, 6485, 5497]"
   ]
  },
  {
   "cell_type": "code",
   "execution_count": null,
   "metadata": {},
   "outputs": [],
   "source": [
    "observation_reconstruction(SELECTED, X_test, X_testp)\n",
    "print(\"Real class:\", y_test[SELECTED].flatten().detach().numpy().astype(int))\n",
    "print(\"Predicted class:\", y_testp[SELECTED].flatten())"
   ]
  },
  {
   "cell_type": "markdown",
   "metadata": {},
   "source": [
    "## Classification"
   ]
  },
  {
   "cell_type": "code",
   "execution_count": null,
   "metadata": {},
   "outputs": [],
   "source": [
    "accuracy(y_test, y_testp)"
   ]
  },
  {
   "cell_type": "code",
   "execution_count": null,
   "metadata": {},
   "outputs": [],
   "source": [
    "baseline(data_train, data_valid, data_test)"
   ]
  },
  {
   "cell_type": "markdown",
   "metadata": {},
   "source": [
    "# Data Exploration"
   ]
  },
  {
   "cell_type": "markdown",
   "metadata": {},
   "source": [
    "Distribution of the input,"
   ]
  },
  {
   "cell_type": "code",
   "execution_count": null,
   "metadata": {},
   "outputs": [],
   "source": [
    "data_input_exploration(X_train)"
   ]
  },
  {
   "cell_type": "markdown",
   "metadata": {},
   "source": [
    "Distribution of the bottleneck neurons,"
   ]
  },
  {
   "cell_type": "code",
   "execution_count": null,
   "metadata": {},
   "outputs": [],
   "source": [
    "data_bottleneck_exploration(model, X_train)"
   ]
  },
  {
   "cell_type": "markdown",
   "metadata": {},
   "source": [
    "# Interpretability"
   ]
  },
  {
   "cell_type": "markdown",
   "metadata": {},
   "source": [
    "## Global Interpretability (Importance Matrix from the weights)"
   ]
  },
  {
   "cell_type": "code",
   "execution_count": null,
   "metadata": {},
   "outputs": [],
   "source": [
    "global_interpretability(model)"
   ]
  },
  {
   "cell_type": "markdown",
   "metadata": {},
   "source": [
    "## Local Interpretability (Shapley Value)"
   ]
  },
  {
   "cell_type": "markdown",
   "metadata": {},
   "source": [
    "Obtain data distribution from which perform the sampling.\r\n",
    "\r\n",
    "We are going to compute the importance of input positions or bottleneck neurons."
   ]
  },
  {
   "cell_type": "code",
   "execution_count": null,
   "metadata": {},
   "outputs": [],
   "source": [
    "hist_input = [get_hist(X_train[:, 0, i]) for i in range(cfg.model.length)]\n",
    "aux = model.encoder(X_train, False).detach().numpy()\n",
    "hist_bn = [get_hist(aux[:, i]) for i in range(cfg.model.bottleneck_nn)]"
   ]
  },
  {
   "cell_type": "markdown",
   "metadata": {},
   "source": [
    "Shapley Values for different parts of the autoencoder. For example, important of the input positions to reconstruct an output position."
   ]
  },
  {
   "cell_type": "code",
   "execution_count": null,
   "metadata": {},
   "outputs": [],
   "source": [
    "shapley_input_vs_output(model, SELECTED, X_test, hist_input)"
   ]
  },
  {
   "cell_type": "code",
   "execution_count": null,
   "metadata": {},
   "outputs": [],
   "source": [
    "shapley_bottleneck_vs_output(model, SELECTED, X_test, hist_bn)"
   ]
  },
  {
   "cell_type": "code",
   "execution_count": null,
   "metadata": {},
   "outputs": [],
   "source": [
    "shapley_input_vs_bottleneck(model, SELECTED, X_test, hist_input)"
   ]
  },
  {
   "cell_type": "code",
   "execution_count": null,
   "metadata": {},
   "outputs": [],
   "source": [
    "shapley_bottleneck_vs_class(model, SELECTED, X_test, hist_bn)"
   ]
  },
  {
   "cell_type": "code",
   "execution_count": null,
   "metadata": {},
   "outputs": [],
   "source": [
    "shapley_input_vs_class(model, SELECTED, X_test, hist_input)"
   ]
  }
 ],
 "metadata": {
  "interpreter": {
   "hash": "bc92e22c73eaa7c4f99e353a9a6142b69d86713b39a02875a370276bee564234"
  },
  "kernelspec": {
   "display_name": "Python 3.8.7  ('.venv': venv)",
   "name": "python3"
  },
  "language_info": {
   "codemirror_mode": {
    "name": "ipython",
    "version": 3
   },
   "file_extension": ".py",
   "mimetype": "text/x-python",
   "name": "python",
   "nbconvert_exporter": "python",
   "pygments_lexer": "ipython3",
   "version": "3.8.7"
  },
  "metadata": {
   "interpreter": {
    "hash": "bc92e22c73eaa7c4f99e353a9a6142b69d86713b39a02875a370276bee564234"
   }
  },
  "orig_nbformat": 2
 },
 "nbformat": 4,
 "nbformat_minor": 2
}