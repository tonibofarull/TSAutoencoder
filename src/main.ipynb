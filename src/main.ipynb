{
 "cells": [
  {
   "source": [
    "%load_ext autoreload\n",
    "%autoreload 2\n",
    "\n",
    "import torch\n",
    "from torch import optim\n",
    "import matplotlib.pyplot as plt\n",
    "import numpy as np\n",
    "import seaborn as sns\n",
    "from sklearn.metrics import confusion_matrix\n",
    "import os\n",
    "import random\n",
    "\n",
    "from models.CAE import CAE\n",
    "from train import Trainer\n",
    "\n",
    "from dataloader import ElectricDevices, normalize\n",
    "from utils import baseline\n",
    "\n",
    "from scipy.ndimage import gaussian_filter1d\n",
    "\n",
    "from pingouin import distance_corr # Szekely and Rizzo\n",
    "\n",
    "import hydra\n",
    "from hydra.experimental import initialize, initialize_config_dir, compose\n",
    "\n",
    "from utils import get_shapley_values, get_layer_attrs, get_neuron_attrs\n",
    "\n",
    "torch.manual_seed(4444)\n",
    "np.random.seed(4444)\n",
    "random.seed(4444)"
   ],
   "cell_type": "code",
   "metadata": {
    "tags": []
   },
   "execution_count": 1,
   "outputs": []
  },
  {
   "cell_type": "markdown",
   "metadata": {},
   "source": [
    "# Create Dataset"
   ]
  },
  {
   "source": [
    "with initialize_config_dir(config_dir=os.path.abspath(\"configs\")):\n",
    "    cfg = compose(config_name=\"config\")\n",
    "print(cfg)"
   ],
   "cell_type": "code",
   "metadata": {},
   "execution_count": 2,
   "outputs": [
    {
     "output_type": "stream",
     "name": "stdout",
     "text": [
      "{'model': {'M': 4, 'Lf': 3, 'length': 96, 'bottleneck_nn': 24, 'lmd': 1.0979131326372968e-05, 'alpha': 0.05}, 'train': {'verbose': True, 'shuffle': True, 'batch_size': 64, 'iters': 400, 'early_stopping_rounds': 23, 'lr': 0.001706322160346846}}\n"
     ]
    }
   ]
  },
  {
   "cell_type": "markdown",
   "metadata": {},
   "source": [
    "## Load observations"
   ]
  },
  {
   "cell_type": "code",
   "execution_count": 3,
   "metadata": {},
   "outputs": [],
   "source": [
    "data_train_ori, data_valid_ori, data_test_ori = ElectricDevices()\n",
    "data_train, data_valid, data_test = normalize(data_train_ori), normalize(data_valid_ori), normalize(data_test_ori)\n",
    "X_train, y_train = data_train[:,:,:-1], data_train[:,:,-1]\n",
    "X_valid, y_valid = data_valid[:,:,:-1], data_valid[:,:,-1]\n",
    "X_test, y_test = data_test[:,:,:-1], data_test[:,:,-1]"
   ]
  },
  {
   "source": [
    "# Data Exploration"
   ],
   "cell_type": "markdown",
   "metadata": {}
  },
  {
   "source": [
    "# Compare to baseline"
   ],
   "cell_type": "markdown",
   "metadata": {}
  },
  {
   "cell_type": "code",
   "execution_count": null,
   "metadata": {},
   "outputs": [],
   "source": [
    "%%script false\n",
    "\n",
    "baseline(data_train, data_valid, data_test)"
   ]
  },
  {
   "source": [
    "# Model"
   ],
   "cell_type": "markdown",
   "metadata": {}
  },
  {
   "cell_type": "code",
   "execution_count": 4,
   "metadata": {},
   "outputs": [],
   "source": [
    "model = CAE(cfg.model, num_classes=7)"
   ]
  },
  {
   "cell_type": "code",
   "execution_count": null,
   "metadata": {
    "tags": []
   },
   "outputs": [],
   "source": [
    "%%script false\n",
    "\n",
    "trainer = Trainer(cfg.train)\n",
    "train_losses, valid_losses = trainer.fit(model, data_train, data_valid)"
   ]
  },
  {
   "cell_type": "code",
   "execution_count": null,
   "metadata": {},
   "outputs": [],
   "source": [
    "%%script false\n",
    "\n",
    "plt.title(\"Cost\")\n",
    "plt.plot(train_losses, label=\"train\")\n",
    "plt.plot(valid_losses, label=\"validation\")\n",
    "plt.legend()"
   ]
  },
  {
   "cell_type": "markdown",
   "metadata": {},
   "source": [
    "## Load/Save model"
   ]
  },
  {
   "cell_type": "code",
   "execution_count": 5,
   "metadata": {},
   "outputs": [
    {
     "output_type": "execute_result",
     "data": {
      "text/plain": [
       "<All keys matched successfully>"
      ]
     },
     "metadata": {},
     "execution_count": 5
    }
   ],
   "source": [
    "#torch.save(model.state_dict(), \"../saved_models/mod\")\n",
    "model.load_state_dict(torch.load(\"../saved_models/mod\"))"
   ]
  },
  {
   "source": [
    "# Shapley Values"
   ],
   "cell_type": "markdown",
   "metadata": {}
  },
  {
   "source": [
    "## Shapley value of input with respect to output"
   ],
   "cell_type": "markdown",
   "metadata": {}
  },
  {
   "cell_type": "code",
   "execution_count": null,
   "metadata": {},
   "outputs": [],
   "source": [
    "%%script false\n",
    "\n",
    "for focus in [1, 3]:\n",
    "    inp = X_test[focus]\n",
    "    for j in range(5):\n",
    "        if j == 0:\n",
    "            baselines = torch.tensor(gaussian_filter1d(X_test[focus,0], sigma=2)).reshape((1,1,96))\n",
    "        elif j == 1:\n",
    "            baselines = 1-X_test[focus].reshape((-1,1,96))\n",
    "        elif j == 2:\n",
    "            baselines = torch.ones((1,1,96))\n",
    "        elif j == 3:\n",
    "            baselines = torch.zeros((1,1,96))\n",
    "        else:\n",
    "            reps = 64\n",
    "            inp = inp.repeat(reps, 1, 1)\n",
    "            baselines = torch.rand((reps,1,96))\n",
    "\n",
    "        input_attrs = get_shapley_values(inp, model, range(96), baselines)\n",
    "\n",
    "        plt.close()\n",
    "        sns.heatmap(input_attrs, cmap=\"coolwarm\").get_figure().savefig(f\"../plots/hm_{focus}-{j}.png\")\n",
    "        print()\n",
    "        print()"
   ]
  },
  {
   "cell_type": "code",
   "execution_count": null,
   "metadata": {},
   "outputs": [],
   "source": [
    "#selected = [np.random.choice(np.where(y_test == i)[0]) for i in range(7)]\n",
    "selected = [np.random.choice(np.where(y_test == 0)[0]) for _ in range(8)]"
   ]
  },
  {
   "source": [
    "## Layer: bottleneck with respect to output"
   ],
   "cell_type": "markdown",
   "metadata": {}
  },
  {
   "cell_type": "code",
   "execution_count": null,
   "metadata": {},
   "outputs": [],
   "source": [
    "#sns.heatmap(get_layer_attrs(X_test[22], model, model.full_conv_bn, range(96)), cmap=\"coolwarm\") # for row i: attribution of neuron (24) to output i\n",
    "\n",
    "fig, axs = plt.subplots(nrows=2, ncols=4, figsize=(25,5))\n",
    "for i, x in enumerate(selected):\n",
    "    layer_attrs = get_layer_attrs(X_test[x], model, model.full_conv_bn, range(96))\n",
    "    sns.heatmap(layer_attrs, ax=axs.flat[i], cmap=\"coolwarm\")\n",
    "fig.delaxes(axs.flatten()[-1])"
   ]
  },
  {
   "source": [
    "## Input with respect to bottleneck"
   ],
   "cell_type": "markdown",
   "metadata": {}
  },
  {
   "cell_type": "code",
   "execution_count": null,
   "metadata": {},
   "outputs": [],
   "source": [
    "#sns.heatmap(get_neuron_attrs(X_test[22], model, model.full_conv_bn, range(24)), cmap=\"coolwarm\")\n",
    "\n",
    "fig, axs = plt.subplots(nrows=2, ncols=4, figsize=(25,5))\n",
    "for i, x in enumerate(selected):\n",
    "    neuron_attrs = get_neuron_attrs(X_test[x], model, model.full_conv_bn, range(24))\n",
    "    sns.heatmap(neuron_attrs, ax=axs.flat[i], cmap=\"coolwarm\")\n",
    "fig.delaxes(axs.flatten()[-1])"
   ]
  },
  {
   "source": [
    "## Average and std correlation"
   ],
   "cell_type": "markdown",
   "metadata": {}
  },
  {
   "cell_type": "code",
   "execution_count": null,
   "metadata": {},
   "outputs": [],
   "source": [
    "X_test, y_test = data_test[:,:,:-1], data_test[:,:,-1].numpy()\n",
    "X_testp, outclass_testp, bn = model(X_test)\n",
    "X_testp = X_testp.detach().numpy()\n",
    "probs_testp = torch.nn.functional.softmax(outclass_testp, dim=1)\n",
    "y_testp = torch.argmax(probs_testp, dim=1).detach().numpy()\n",
    "\n",
    "# avg and std of cors\n",
    "cors = [distance_corr(X_testp[i,0], X_test[i,0].detach().numpy(), n_boot=None) for i in range(X_test.shape[0])]\n",
    "print(\"Distance Correlation avg and std:\", np.mean(cors), np.std(cors))\n",
    "print(\"NRMSE:\", (torch.sqrt(torch.mean(torch.square(X_test-X_testp)))/(torch.max(X_test)-torch.min(X_test))).item())\n",
    "print()"
   ]
  },
  {
   "cell_type": "code",
   "execution_count": null,
   "metadata": {
    "tags": []
   },
   "outputs": [],
   "source": [
    "#selected = [0, 1, 2, 3, 97]\n",
    "\n",
    "fig, axs = plt.subplots(nrows=2, ncols=len(selected), figsize=(25,5))\n",
    "for i, x in enumerate(selected):\n",
    "    vals = data_test_ori[x,0,:-1]\n",
    "    min_v, max_v = torch.min(vals), torch.max(vals)\n",
    "    axs[0,i].set_title(f\"C: {int(y_test[x][0])} (min={min_v:.2f}, max={max_v:.2f})\")\n",
    "    axs[0,i].plot(X_test[x,0])\n",
    "    axs[0,i].axis(\"off\")\n",
    "    axs[0,i].set_ylim((0,1))\n",
    "\n",
    "    axs[1,i].set_title(f\"Pred: {int(y_testp[x])}\")\n",
    "    axs[1,i].plot(X_testp[x,0])\n",
    "    axs[1,i].axis(\"off\")\n",
    "    axs[1,i].set_ylim((0,1))\n",
    "\n",
    "    print(\"cor:\", distance_corr(X_testp[i,0], X_test[i,0], n_boot=None))"
   ]
  },
  {
   "cell_type": "code",
   "execution_count": null,
   "metadata": {},
   "outputs": [],
   "source": [
    "cm = confusion_matrix(y_test, y_testp)\n",
    "sns.heatmap(cm, annot=True, cmap=\"Blues\")\n",
    "plt.xlabel(\"Predicted label\")\n",
    "plt.ylabel(\"True label\")\n",
    "\n",
    "print(\"Accuracy:\", np.sum(np.diag(cm))/np.sum(cm))"
   ]
  },
  {
   "source": [
    "# Feature Visualization"
   ],
   "cell_type": "markdown",
   "metadata": {}
  },
  {
   "cell_type": "code",
   "execution_count": 23,
   "metadata": {},
   "outputs": [],
   "source": [
    "def feature_visualization(neuron): # https://pytorch.org/tutorials/advanced/neural_style_tutorial.html\n",
    "    X = torch.rand((1,1,96), requires_grad=True)\n",
    "    optimizer = optim.LBFGS([X])\n",
    "\n",
    "    def closure():\n",
    "        optimizer.zero_grad()\n",
    "        model.zero_grad()\n",
    "        _, _, bn = model(torch.sigmoid(X))\n",
    "        y = -bn[0,neuron]\n",
    "        y.backward()\n",
    "        return y\n",
    "\n",
    "    for i in range(100):\n",
    "        optimizer.step(closure)\n",
    "    return torch.sigmoid(X).detach().numpy().flatten()\n",
    "\n",
    "if False:\n",
    "    for i in range(24):\n",
    "        a1 = feature_visualization(i)\n",
    "        plt.plot(a1)\n",
    "        plt.title(f\"Neuron {i}\")\n",
    "        plt.ylim(-0.05, 1.05)\n",
    "        plt.savefig(f\"../plots/{i}.png\")\n",
    "        plt.close()"
   ]
  },
  {
   "cell_type": "markdown",
   "metadata": {},
   "source": [
    "# Checking important filters"
   ]
  },
  {
   "cell_type": "code",
   "execution_count": null,
   "metadata": {},
   "outputs": [],
   "source": [
    "num_filter = model.k*model.M\n",
    "w_per_filter = model.length\n",
    "num_neurons = model.bottleneck_nn\n",
    "M = model.M\n",
    "\n",
    "w = np.array([[torch.mean(torch.abs(model.full_conv_bn.weight[j,i*w_per_filter:(i+1)*w_per_filter])).item() for i in range(num_filter)] for j in range(num_neurons)])\n",
    "\n",
    "x_axis_labels = [f\"{i}-d:{model.dilation[i//M]}\" for i in range(w.shape[1])]\n",
    "_ = sns.heatmap(w, cmap=\"coolwarm\", xticklabels=x_axis_labels)"
   ]
  },
  {
   "cell_type": "code",
   "execution_count": null,
   "metadata": {},
   "outputs": [],
   "source": []
  }
 ],
 "metadata": {
  "kernelspec": {
   "name": "python3",
   "display_name": "Python 3",
   "language": "python"
  },
  "language_info": {
   "codemirror_mode": {
    "name": "ipython",
    "version": 3
   },
   "file_extension": ".py",
   "mimetype": "text/x-python",
   "name": "python",
   "nbconvert_exporter": "python",
   "pygments_lexer": "ipython3",
   "version": "3.8.7-final"
  },
  "orig_nbformat": 2
 },
 "nbformat": 4,
 "nbformat_minor": 2
}