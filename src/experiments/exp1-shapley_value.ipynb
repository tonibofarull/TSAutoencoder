{
 "cells": [
  {
   "cell_type": "code",
   "execution_count": null,
   "metadata": {},
   "outputs": [],
   "source": [
    "%load_ext autoreload\n",
    "%autoreload 2\n",
    "import sys\n",
    "sys.path.append(\"..\")\n",
    "\n",
    "import seaborn as sns\n",
    "import pandas as pd\n",
    "import torch\n",
    "import numpy as np\n",
    "from interpretability import sample_from_hist, get_hist\n",
    "import random\n",
    "import matplotlib.pyplot as plt\n",
    "\n",
    "torch.manual_seed(4444)\n",
    "np.random.seed(4444)\n",
    "random.seed(4444)\n",
    "\n",
    "plt.rcParams.update({'font.size': 15})"
   ]
  },
  {
   "cell_type": "code",
   "execution_count": null,
   "metadata": {},
   "outputs": [],
   "source": [
    "def shapley_value(x, b, i, func, hist=None):\n",
    "    from itertools import chain, combinations\n",
    "    from math import factorial\n",
    "    def powerset(iterable):\n",
    "        \"\"\"\n",
    "        powerset([1,2,3]) --> () (1,) (2,) (3,) (1,2) (1,3) (2,3) (1,2,3)\n",
    "        \"\"\"\n",
    "        s = list(iterable)\n",
    "        return chain.from_iterable(combinations(s, r) for r in range(len(s)+1))\n",
    "\n",
    "    n = len(x)\n",
    "    l = list(range(n))\n",
    "    del l[i]\n",
    "    sv = 0\n",
    "\n",
    "    if hist is not None:\n",
    "        b = torch.tensor([sample_from_hist(hist[i]) for i in range(n)], dtype=torch.float32).flatten()\n",
    "\n",
    "    for S in powerset(l):\n",
    "        S = np.array(S).flatten()\n",
    "        v1, v2 = b.clone(), b.clone()\n",
    "        v1[i] = x[i]\n",
    "        if len(S) != 0:\n",
    "            v1[S] = x[S]\n",
    "            v2[S] = x[S]\n",
    "        const = factorial(len(S))*factorial(n-len(S)-1)/factorial(n)\n",
    "        sv += const*(func(v1)-func(v2))\n",
    "    return abs(sv)"
   ]
  },
  {
   "cell_type": "code",
   "execution_count": null,
   "metadata": {},
   "outputs": [],
   "source": [
    "def func1():\n",
    "    means = [1,2,3,4,1]\n",
    "    phi = torch.tensor(means, dtype=torch.float32)\n",
    "    def foo(x):\n",
    "        return torch.sum(phi * x)\n",
    "    return foo\n",
    "\n",
    "def func2():\n",
    "    def foo(x):\n",
    "        return torch.sum(torch.exp(-1/2* torch.square(x)))\n",
    "    return foo"
   ]
  },
  {
   "cell_type": "code",
   "execution_count": null,
   "metadata": {},
   "outputs": [],
   "source": [
    "def generate1():\n",
    "    locs = [1,1,1,1,8]\n",
    "    x = np.concatenate([np.random.normal(loc=i, scale=1, size=(1,1)) for i in locs], axis=1)\n",
    "    x = torch.tensor(x, dtype=torch.float32).flatten()\n",
    "    return x\n",
    "\n",
    "def generate2():\n",
    "    a = torch.normal(mean=10, std=1, size=(1,1))\n",
    "    b = torch.normal(mean=-10, std=1, size=(1,1))\n",
    "    sel = torch.rand(1, 1) < 0.5\n",
    "    x = torch.where(sel, a, b)\n",
    "    x = torch.cat([x, torch.normal(mean=0, std=1, size=(1,1))], dim=1)\n",
    "    return x.flatten()"
   ]
  },
  {
   "cell_type": "code",
   "execution_count": null,
   "metadata": {},
   "outputs": [],
   "source": [
    "def run(generate, func, reps=10, n=100, apply_center=False, take_hist=True, take_mean=True, alpha=1, ax=None, title=None):\n",
    "    m = generate().shape[0]\n",
    "\n",
    "    res = []\n",
    "    for _ in range(reps):\n",
    "        aux2 = []\n",
    "        f = func()\n",
    "        x = torch.stack([generate() for _ in range(n)])\n",
    "\n",
    "        if apply_center:\n",
    "            center = torch.mean(x, dim=0)\n",
    "            x = x - center\n",
    "\n",
    "        hist_input = None\n",
    "        if take_hist:\n",
    "            hist_input = [get_hist(x[:,j], alpha=alpha) for j in range(m)]\n",
    "\n",
    "        b = torch.zeros((x.shape[1])) # ZEROS\n",
    "        if take_mean:\n",
    "            b = torch.mean(x, dim=0) # MEAN\n",
    "\n",
    "        for j in range(n):\n",
    "            aux = [shapley_value(x[j], b, i, f, hist=hist_input).item() for i in range(m)]\n",
    "            aux2.append(aux)\n",
    "        aux2 = np.mean(np.array(aux2), axis=0)\n",
    "        res.append(aux2)\n",
    "    res = np.array(res)\n",
    "    data = {\"x\": res.flatten(), \"class\": np.tile(range(m), reps)+1}\n",
    "    ax.set(xlabel=\"Group\", ylabel=\"Average absolute Shapley Value\")\n",
    "    ax = sns.boxplot(x=\"class\", y=\"x\", data=data, ax=ax).set_title(title)\n",
    "    plt.title(title)"
   ]
  },
  {
   "source": [
    "## Experiment 1"
   ],
   "cell_type": "markdown",
   "metadata": {}
  },
  {
   "cell_type": "code",
   "execution_count": null,
   "metadata": {
    "tags": []
   },
   "outputs": [],
   "source": [
    "fig, axs = plt.subplots(1, 1, figsize=(6, 5), constrained_layout=True)\n",
    "run(generate1, func1, take_hist=False, take_mean=False, ax=axs, title=\"Zero baseline\")\n",
    "plt.savefig(\"base_zeros.png\", dpi=100)"
   ]
  },
  {
   "cell_type": "code",
   "execution_count": null,
   "metadata": {},
   "outputs": [],
   "source": [
    "fig, axs = plt.subplots(2, 2, figsize=(13, 10), constrained_layout=True)\n",
    "run(generate1, func1, take_hist=False, take_mean=True, ax=axs[0,0], title=\"Mean baseline\")\n",
    "run(generate1, func1, alpha=1, ax=axs[0,1], title=r\"Distribution baseline, $\\alpha = 1$\")\n",
    "run(generate1, func1, alpha=0, ax=axs[1,0], title=r\"Uniform baseline, $\\alpha = 0$\")\n",
    "run(generate1, func1, alpha=-1, ax=axs[1,1], title=r\"Inverse proportional baseline, $\\alpha = -1$\")\n",
    "plt.savefig(\"base.png\", dpi=100)"
   ]
  },
  {
   "source": [
    "## Experiment 2"
   ],
   "cell_type": "markdown",
   "metadata": {}
  },
  {
   "cell_type": "code",
   "execution_count": null,
   "metadata": {
    "tags": []
   },
   "outputs": [],
   "source": [
    "fig, axs = plt.subplots(2, 2, figsize=(12, 9), constrained_layout=True)\n",
    "run(generate2, func2, apply_center=True, take_hist=False, take_mean=True, ax=axs[0,0], title=\"Mean baseline\")\n",
    "run(generate2, func2, apply_center=True, alpha=1, ax=axs[0,1], title=r\"Distribution baseline, $\\alpha = 1$\")\n",
    "run(generate2, func2, apply_center=True, alpha=0, ax=axs[1,0], title=r\"Uniform baseline, $\\alpha = 0$\")\n",
    "run(generate2, func2, apply_center=True, alpha=-1, ax=axs[1,1], title=r\"Inverse proportional baseline, $\\alpha = -1$\")\n",
    "plt.savefig(\"base2.png\", dpi=100)"
   ]
  },
  {
   "cell_type": "code",
   "execution_count": null,
   "metadata": {},
   "outputs": [],
   "source": []
  }
 ],
 "metadata": {
  "kernelspec": {
   "name": "pythonjvsc74a57bd0bc92e22c73eaa7c4f99e353a9a6142b69d86713b39a02875a370276bee564234",
   "display_name": "Python 3.8.7  ('.venv': venv)"
  },
  "language_info": {
   "codemirror_mode": {
    "name": "ipython",
    "version": 3
   },
   "file_extension": ".py",
   "mimetype": "text/x-python",
   "name": "python",
   "nbconvert_exporter": "python",
   "pygments_lexer": "ipython3",
   "version": "3.8.7"
  },
  "metadata": {
   "interpreter": {
    "hash": "bc92e22c73eaa7c4f99e353a9a6142b69d86713b39a02875a370276bee564234"
   }
  },
  "orig_nbformat": 2
 },
 "nbformat": 4,
 "nbformat_minor": 2
}