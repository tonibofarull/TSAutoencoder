{
 "cells": [
  {
   "cell_type": "code",
   "execution_count": null,
   "metadata": {},
   "outputs": [],
   "source": [
    "%load_ext autoreload\r\n",
    "%autoreload 2\r\n",
    "import sys\r\n",
    "sys.path.append(\"..\")\r\n",
    "\r\n",
    "import seaborn as sns\r\n",
    "import pandas as pd\r\n",
    "import torch\r\n",
    "import numpy as np\r\n",
    "from src.interpretability import sample_from_hist, get_hist\r\n",
    "import random\r\n",
    "\r\n",
    "torch.manual_seed(4444)\r\n",
    "np.random.seed(4444)\r\n",
    "random.seed(4444)"
   ]
  },
  {
   "cell_type": "code",
   "execution_count": null,
   "metadata": {},
   "outputs": [],
   "source": [
    "def shapley_value(x, b, i, func, hist=None):\r\n",
    "    from itertools import chain, combinations\r\n",
    "    from math import factorial\r\n",
    "    def powerset(iterable):\r\n",
    "        \"\"\"\r\n",
    "        powerset([1,2,3]) --> () (1,) (2,) (3,) (1,2) (1,3) (2,3) (1,2,3)\r\n",
    "        \"\"\"\r\n",
    "        s = list(iterable)\r\n",
    "        return chain.from_iterable(combinations(s, r) for r in range(len(s)+1))\r\n",
    "\r\n",
    "    n = len(x)\r\n",
    "    l = list(range(n))\r\n",
    "    del l[i]\r\n",
    "    sv = 0\r\n",
    "\r\n",
    "    if hist is not None:\r\n",
    "        b = torch.tensor([sample_from_hist(hist[i]) for i in range(n)], dtype=torch.float32).flatten()\r\n",
    "\r\n",
    "    for S in powerset(l):\r\n",
    "        S = np.array(S).flatten()\r\n",
    "        v1, v2 = b.clone(), b.clone()\r\n",
    "        v1[i] = x[i]\r\n",
    "        if len(S) != 0:\r\n",
    "            v1[S] = x[S]\r\n",
    "            v2[S] = x[S]\r\n",
    "        const = factorial(len(S))*factorial(n-len(S)-1)/factorial(n)\r\n",
    "        sv += const*(func(v1)-func(v2))\r\n",
    "    return abs(sv)"
   ]
  },
  {
   "cell_type": "code",
   "execution_count": null,
   "metadata": {},
   "outputs": [],
   "source": [
    "def func1():\r\n",
    "    means = [1,2,3,4,1]\r\n",
    "    # means = [0,0,0,0,0]\r\n",
    "    # phi = np.concatenate([np.random.normal(loc=i, scale=0.1, size=(1,1)) for i in means], axis=1)\r\n",
    "    # phi = torch.tensor(phi, dtype=torch.float32)\r\n",
    "    phi = torch.tensor(means, dtype=torch.float32)\r\n",
    "    def foo(x):\r\n",
    "        return torch.sum(phi * x)\r\n",
    "    return foo\r\n",
    "\r\n",
    "def func2():\r\n",
    "    def foo(x):\r\n",
    "        return torch.sum(torch.exp(-1/2* torch.square(x)))\r\n",
    "    return foo"
   ]
  },
  {
   "cell_type": "code",
   "execution_count": null,
   "metadata": {},
   "outputs": [],
   "source": [
    "def generate1():\r\n",
    "    locs = [1,1,1,1,8]\r\n",
    "    x = np.concatenate([np.random.normal(loc=i, scale=1, size=(1,1)) for i in locs], axis=1)\r\n",
    "    x = torch.tensor(x, dtype=torch.float32).flatten()\r\n",
    "    return x\r\n",
    "\r\n",
    "def generate2():\r\n",
    "    a = torch.normal(mean=10, std=1, size=(1,1))\r\n",
    "    b = torch.normal(mean=-10, std=1, size=(1,1))\r\n",
    "    sel = torch.rand(1, 1) < 0.5\r\n",
    "    x = torch.where(sel, a, b)\r\n",
    "    x = torch.cat([x, torch.normal(mean=0, std=1, size=(1,1))], dim=1)\r\n",
    "    return x.flatten()"
   ]
  },
  {
   "cell_type": "code",
   "execution_count": null,
   "metadata": {},
   "outputs": [],
   "source": [
    "generate = generate2\r\n",
    "func = func2\r\n",
    "\r\n",
    "reps = 10\r\n",
    "n = 10\r\n",
    "m = generate().shape[0]\r\n",
    "\r\n",
    "# b = torch.tensor([1,1], dtype=torch.float32)\r\n",
    "# b = torch.tensor([0,0,0,0,0], dtype=torch.float32)\r\n",
    "res = []\r\n",
    "for _ in range(reps):\r\n",
    "    aux2 = []\r\n",
    "    f = func()\r\n",
    "    x = torch.stack([generate() for _ in range(n)])\r\n",
    "    x = x-torch.mean(x, dim=0)\r\n",
    "\r\n",
    "    hist_input = [get_hist(x[:,j], alpha=1) for j in range(m)]\r\n",
    "    # hist_input = None\r\n",
    "\r\n",
    "    for j in range(n):\r\n",
    "        b = torch.mean(x, dim=0)\r\n",
    "        aux = [shapley_value(x[j], b, i, f, hist=hist_input).item() for i in range(m)]\r\n",
    "        aux2.append(aux)\r\n",
    "    aux2 = np.mean(np.array(aux2), axis=0)\r\n",
    "    res.append(aux2)\r\n",
    "res = np.array(res)\r\n",
    "data = {\"x\": res.flatten(), \"class\": np.tile(range(m), reps)}\r\n",
    "ax = sns.boxplot(x=\"class\", y=\"x\", data=data)\r\n",
    "ax.set(xlabel=\"Group\", ylabel=\"Average absolute Shapley Value\")\r\n",
    "# ax.get_figure().savefig(\"base_zeros.png\", dpi=100)"
   ]
  }
 ],
 "metadata": {
  "kernelspec": {
   "display_name": "Python 3.8.8  ('.venv': venv)",
   "name": "pythonjvsc74a57bd03d0a349251b803ce89bf9e449a94f1b8464b3ca029752d5a5598c6dc74984378"
  },
  "language_info": {
   "codemirror_mode": {
    "name": "ipython",
    "version": 3
   },
   "file_extension": ".py",
   "mimetype": "text/x-python",
   "name": "python",
   "nbconvert_exporter": "python",
   "pygments_lexer": "ipython3",
   "version": "3.8.8"
  },
  "metadata": {
   "interpreter": {
    "hash": "3d0a349251b803ce89bf9e449a94f1b8464b3ca029752d5a5598c6dc74984378"
   }
  },
  "orig_nbformat": 2
 },
 "nbformat": 4,
 "nbformat_minor": 2
}